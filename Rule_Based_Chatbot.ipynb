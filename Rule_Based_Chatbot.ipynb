{
  "nbformat": 4,
  "nbformat_minor": 0,
  "metadata": {
    "colab": {
      "provenance": [],
      "authorship_tag": "ABX9TyOwIp2s4ZmbRfVNWPP8BbKa",
      "include_colab_link": true
    },
    "kernelspec": {
      "name": "python3",
      "display_name": "Python 3"
    },
    "language_info": {
      "name": "python"
    }
  },
  "cells": [
    {
      "cell_type": "markdown",
      "metadata": {
        "id": "view-in-github",
        "colab_type": "text"
      },
      "source": [
        "<a href=\"https://colab.research.google.com/github/Sushmeeta/Car-Racing-Game/blob/main/Rule_Based_Chatbot.ipynb\" target=\"_parent\"><img src=\"https://colab.research.google.com/assets/colab-badge.svg\" alt=\"Open In Colab\"/></a>"
      ]
    },
    {
      "cell_type": "code",
      "execution_count": 1,
      "metadata": {
        "colab": {
          "base_uri": "https://localhost:8080/"
        },
        "id": "WE0MhnI1x_6w",
        "outputId": "75adce74-2241-4a9e-a3f3-4444ff94c2a1"
      },
      "outputs": [
        {
          "output_type": "stream",
          "name": "stdout",
          "text": [
            "What is your name?\n",
            "sushi\n",
            "Hi sushi, I am Rule-Bot. Will you help me learn about your planet?\n",
            "yes\n",
            "What do you consume for sustenance?water\n",
            "Please tell me more.\n",
            "Are there many humans like you?yes\n",
            "Tell me more!\n",
            "What do you consume for sustenance?we do consume food\n",
            "Interesting. Can you tell me more?\n",
            "Why are you here?to learn\n",
            "Please tell me more.\n",
            "Why are you here?stop\n",
            "Why?\n",
            "Does Earth have a leader?quit\n",
            "Okay, have a nice Earth day!\n"
          ]
        }
      ],
      "source": [
        "import random\n",
        "import re\n",
        "\n",
        "class RuleBot:\n",
        "    negative_responses = (\"no\", \"nope\", \"nah\", \"not a chance\", \"sorry\")\n",
        "    exit_commands = (\"quit\", \"pause\", \"exit\", \"goodbye\", \"bye\", \"later\")\n",
        "    random_questions = (\n",
        "        \"Why are you here?\",\n",
        "        \"What do you consume for sustenance?\",\n",
        "        \"Are there many humans like you?\",\n",
        "        \"Does Earth have a leader?\",\n",
        "        \"What planets have you visited?\",\n",
        "        \"What technology do you have on this planet?\"\n",
        "    )\n",
        "\n",
        "    def __init__(self):\n",
        "        self.alienbabble = {\n",
        "            'describe_planet_intent': r'.*\\s*your planet.*',\n",
        "            'answer_why_intent': r'why\\sare.*',\n",
        "            'about_intellipat': r'.*\\s*intellipaat.*'\n",
        "        }\n",
        "\n",
        "    def greet(self):\n",
        "        self.name = input(\"What is your name?\\n\")\n",
        "        will_help = input(f\"Hi {self.name}, I am Rule-Bot. Will you help me learn about your planet?\\n\").lower()\n",
        "        if will_help in self.negative_responses:\n",
        "            print(\"Ok, have a nice Earth day!\")\n",
        "        else:\n",
        "            self.chat()\n",
        "\n",
        "    def make_exit(self, reply):\n",
        "        for command in self.exit_commands:\n",
        "            if reply == command:\n",
        "                print('Okay, have a nice Earth day!')\n",
        "                return True\n",
        "        return False\n",
        "\n",
        "    def chat(self):\n",
        "        while True:\n",
        "            reply = input(random.choice(self.random_questions)).lower()\n",
        "            if self.make_exit(reply):\n",
        "                break\n",
        "            response = self.match_reply(reply)\n",
        "            print(response)\n",
        "\n",
        "    def match_reply(self, reply):\n",
        "        for key, value in self.alienbabble.items():\n",
        "            if re.match(value, reply):\n",
        "                if key == 'describe_planet_intent':\n",
        "                    return self.describe_planet_intent()\n",
        "                elif key == 'answer_why_intent':\n",
        "                    return self.answer_why_intent()\n",
        "                elif key == 'about_intellipat':\n",
        "                    return self.about_intellipat()\n",
        "\n",
        "        return self.no_match_intent()\n",
        "\n",
        "    def describe_planet_intent(self):\n",
        "        responses = [\n",
        "            \"My planet is a utopia of diverse organisms and species.\",\n",
        "            \"I am from Opidipus, the capital of the Way Galaxies.\"\n",
        "        ]\n",
        "        return random.choice(responses)\n",
        "\n",
        "    def answer_why_intent(self):\n",
        "        responses = [\n",
        "            \"I come in peace.\",\n",
        "            \"I am here to collect data on your planet and its inhabitants.\",\n",
        "            \"I heard the coffee is good.\"\n",
        "        ]\n",
        "        return random.choice(responses)\n",
        "\n",
        "    def about_intellipat(self):\n",
        "        responses = [\n",
        "            \"Intellipaat is the world's largest professional educational company.\",\n",
        "            \"Intellipaat will help you learn concepts from around the world.\",\n",
        "            \"Intellipaat is where your career and skills grow.\"\n",
        "        ]\n",
        "        return random.choice(responses)\n",
        "\n",
        "    def no_match_intent(self):\n",
        "        responses = [\n",
        "            \"Please tell me more.\",\n",
        "            \"Tell me more!\",\n",
        "            \"Why do you say that?\",\n",
        "            \"I see. Can you elaborate?\",\n",
        "            \"Interesting. Can you tell me more?\",\n",
        "            \"I see. How do you think?\",\n",
        "            \"Why?\",\n",
        "            \"How do you think I feel when you say that?\"\n",
        "        ]\n",
        "        return random.choice(responses)\n",
        "\n",
        "# Create an instance of RuleBot and start the conversation\n",
        "AlienBot = RuleBot()\n",
        "AlienBot.greet()\n",
        "\\"
      ]
    }
  ]
}